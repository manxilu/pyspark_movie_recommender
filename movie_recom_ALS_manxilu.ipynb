{
 "cells": [
  {
   "cell_type": "code",
   "execution_count": 1,
   "metadata": {
    "collapsed": true
   },
   "outputs": [],
   "source": [
    "import findspark\n",
    "findspark.init()\n",
    "import math\n",
    "import numpy as np\n",
    "import pandas as pd\n",
    "import seaborn as sns\n",
    "import matplotlib.pyplot as plt\n",
    "import math\n",
    "%matplotlib inline"
   ]
  },
  {
   "cell_type": "code",
   "execution_count": 2,
   "metadata": {
    "collapsed": true
   },
   "outputs": [],
   "source": [
    "from pyspark.sql import SparkSession, Column, Row, functions as F "
   ]
  },
  {
   "cell_type": "code",
   "execution_count": 3,
   "metadata": {
    "collapsed": true
   },
   "outputs": [],
   "source": [
    "spark = (SparkSession.builder\\\n",
    "        .master(\"local[*]\")\\\n",
    "        .appName(\"spark movie recommender\")\\\n",
    "        .getOrCreate())\n",
    "sc = spark.sparkContext"
   ]
  },
  {
   "cell_type": "markdown",
   "metadata": {},
   "source": [
    "## Data ETL and Exploration"
   ]
  },
  {
   "cell_type": "code",
   "execution_count": 4,
   "metadata": {
    "collapsed": true
   },
   "outputs": [],
   "source": [
    "movies = spark.read.load(\"../movie_recommender/movies.csv\", format='csv', header = True)\n",
    "ratings = spark.read.load(\"../movie_recommender/ratings.csv\", format='csv', header = True)\n",
    "links = spark.read.load(\"../movie_recommender/links.csv\",format='csv', header = True)\n",
    "tags = spark.read.load(\"../movie_recommender/tags.csv\",format='csv', header = True)"
   ]
  },
  {
   "cell_type": "code",
   "execution_count": 5,
   "metadata": {},
   "outputs": [
    {
     "name": "stdout",
     "output_type": "stream",
     "text": [
      "+-------+----------------+--------------------+\n",
      "|movieId|           title|              genres|\n",
      "+-------+----------------+--------------------+\n",
      "|      1|Toy Story (1995)|Adventure|Animati...|\n",
      "+-------+----------------+--------------------+\n",
      "only showing top 1 row\n",
      "\n",
      "+------+-------+------+----------+\n",
      "|userId|movieId|rating| timestamp|\n",
      "+------+-------+------+----------+\n",
      "|     1|     31|   2.5|1260759144|\n",
      "+------+-------+------+----------+\n",
      "only showing top 1 row\n",
      "\n",
      "+-------+-------+------+\n",
      "|movieId| imdbId|tmdbId|\n",
      "+-------+-------+------+\n",
      "|      1|0114709|   862|\n",
      "+-------+-------+------+\n",
      "only showing top 1 row\n",
      "\n",
      "+------+-------+--------------------+----------+\n",
      "|userId|movieId|                 tag| timestamp|\n",
      "+------+-------+--------------------+----------+\n",
      "|    15|    339|sandra 'boring' b...|1138537770|\n",
      "+------+-------+--------------------+----------+\n",
      "only showing top 1 row\n",
      "\n"
     ]
    }
   ],
   "source": [
    "movies.show(1) \n",
    "ratings.show(1)\n",
    "links.show(1)\n",
    "tags.show(1)"
   ]
  },
  {
   "cell_type": "code",
   "execution_count": 6,
   "metadata": {},
   "outputs": [
    {
     "name": "stdout",
     "output_type": "stream",
     "text": [
      "('The sparsity is ', 0.9835608583913366)\n"
     ]
    }
   ],
   "source": [
    "# sparsity\n",
    "num_users=ratings.select('userId').distinct().count()\n",
    "num_movies=ratings.select('movieId').distinct().count()\n",
    "num_ratings = ratings.count()\n",
    "sparsity=1-(num_ratings*1.0)/(num_users*num_movies)\n",
    "print(\"The sparsity is \", sparsity)"
   ]
  },
  {
   "cell_type": "code",
   "execution_count": 7,
   "metadata": {},
   "outputs": [
    {
     "name": "stdout",
     "output_type": "stream",
     "text": [
      "The following movieId are not rated\n",
      "+-------+\n",
      "|movieId|\n",
      "+-------+\n",
      "| 144172|\n",
      "|  94969|\n",
      "| 132547|\n",
      "|   7335|\n",
      "| 110871|\n",
      "|   5984|\n",
      "| 131796|\n",
      "| 132800|\n",
      "| 128235|\n",
      "|  39421|\n",
      "|  82313|\n",
      "| 111251|\n",
      "|  42217|\n",
      "| 132549|\n",
      "|   8767|\n",
      "| 161582|\n",
      "| 155064|\n",
      "| 111249|\n",
      "|  48711|\n",
      "| 132458|\n",
      "+-------+\n",
      "only showing top 20 rows\n",
      "\n"
     ]
    }
   ],
   "source": [
    "# List movies not rated before\n",
    "print(\"The following movieId are not rated\")\n",
    "all_movies = ratings.select('movieId').union(tags.select('movieId'))\n",
    "rated = ratings.select('movieId')\n",
    "not_rated = all_movies.subtract(rated)\n",
    "not_rated.distinct().show()"
   ]
  },
  {
   "cell_type": "code",
   "execution_count": 8,
   "metadata": {},
   "outputs": [
    {
     "name": "stdout",
     "output_type": "stream",
     "text": [
      "+--------------------+\n",
      "|              genres|\n",
      "+--------------------+\n",
      "|Comedy|Horror|Thr...|\n",
      "|Adventure|Sci-Fi|...|\n",
      "|Action|Adventure|...|\n",
      "| Action|Drama|Horror|\n",
      "|Comedy|Drama|Horr...|\n",
      "|Action|Animation|...|\n",
      "|Animation|Childre...|\n",
      "|Action|Adventure|...|\n",
      "| Adventure|Animation|\n",
      "|    Adventure|Sci-Fi|\n",
      "|Documentary|Music...|\n",
      "|Adventure|Childre...|\n",
      "|  Documentary|Sci-Fi|\n",
      "| Musical|Romance|War|\n",
      "|Action|Adventure|...|\n",
      "|Adventure|Childre...|\n",
      "|Crime|Drama|Fanta...|\n",
      "|Comedy|Mystery|Th...|\n",
      "|   Adventure|Fantasy|\n",
      "|Action|Animation|...|\n",
      "+--------------------+\n",
      "only showing top 20 rows\n",
      "\n",
      "('The number of movies for each category is ', {'Mystery': 543, 'Romance': 1545, 'IMAX': 153, 'Sci-Fi': 792, 'Horror': 877, 'Film-Noir': 133, 'Crime': 1100, 'Drama': 4365, 'Fantasy': 654, 'Animation': 447, 'War': 367, 'Western': 168, 'Children': 583, 'Action': 1545, '(no genres listed)': 18, 'Comedy': 3315, 'Documentary': 495, 'Musical': 394, 'Thriller': 1729, 'Adventure': 1117})\n"
     ]
    }
   ],
   "source": [
    "#Number of movies for each gene category\n",
    "movies.select('genres').distinct().show()\n",
    "gene_set = set()\n",
    "for row in movies.collect():\n",
    "    gene = row[\"genres\"]\n",
    "    gene_set.update(gene.split(\"|\"))\n",
    "gene_set = list(gene_set)\n",
    "gene=[str(i) for i in gene_set]\n",
    "\n",
    "gene_count=dict((i, movies.filter(movies[\"genres\"].contains(i)).count()) for i in gene)\n",
    "print(\"The number of movies for each category is \",gene_count)"
   ]
  },
  {
   "cell_type": "code",
   "execution_count": 9,
   "metadata": {},
   "outputs": [
    {
     "name": "stdout",
     "output_type": "stream",
     "text": [
      "The rating distribution\n",
      "+------+-----+\n",
      "|rating|count|\n",
      "+------+-----+\n",
      "|   0.5| 1101|\n",
      "|   1.0| 3326|\n",
      "|   1.5| 1687|\n",
      "|   2.0| 7271|\n",
      "|   2.5| 4449|\n",
      "|   3.0|20064|\n",
      "|   3.5|10538|\n",
      "|   4.0|28750|\n",
      "|   4.5| 7723|\n",
      "|   5.0|15095|\n",
      "+------+-----+\n",
      "\n"
     ]
    }
   ],
   "source": [
    "#Rating distribution\n",
    "print(\"The rating distribution\")\n",
    "rd=ratings.select('rating').groupBy('rating').count().orderBy(\"rating\").show()"
   ]
  },
  {
   "cell_type": "markdown",
   "metadata": {},
   "source": [
    "## Collaborative Filtering\n",
    "### With ALS algorithm, we can use gird search to tune the hyperparameters "
   ]
  },
  {
   "cell_type": "code",
   "execution_count": 10,
   "metadata": {
    "collapsed": true
   },
   "outputs": [],
   "source": [
    "def grid_ALS(train_data, validation_data, num_iters, reg_param, ranks):\n",
    "    min_error = float('inf')\n",
    "    best_rank = -1\n",
    "    best_regularization = 0\n",
    "    best_model = None\n",
    "    for rank in ranks:\n",
    "        for reg in reg_param:\n",
    "            model = ALS.train(train_data, rank, iterations = num_iters, lambda_ = reg)\n",
    "            predictions = model.predictAll(validation_data.map(lambda x: (x[0], x[1]))).map(lambda x: ((x[0], x[1]), x[2]))\n",
    "            rate_and_preds = validation_data.map(lambda x: ((int(x[0]), int(x[1])), float(x[2]))).join(predictions)\n",
    "            error = math.sqrt(rate_and_preds.map(lambda r: (r[1][0] - r[1][1])**2).mean())\n",
    "            print ('{} latent factors and regularization = {}: validation RMSE is {}'.format(rank, reg, error))\n",
    "            if error < min_error:\n",
    "                min_error = error\n",
    "                best_rank = rank\n",
    "                best_regularization = reg\n",
    "                best_model = model\n",
    "    print ('\\nThe best model has {} latent factors and regularization = {}'.format(best_rank, best_regularization))\n",
    "    return best_model"
   ]
  },
  {
   "cell_type": "code",
   "execution_count": 11,
   "metadata": {},
   "outputs": [
    {
     "name": "stdout",
     "output_type": "stream",
     "text": [
      "8 latent factors and regularization = 0.05: validation RMSE is 1.04127692828\n",
      "8 latent factors and regularization = 0.1: validation RMSE is 0.959453703021\n",
      "8 latent factors and regularization = 0.2: validation RMSE is 0.937054258064\n",
      "10 latent factors and regularization = 0.05: validation RMSE is 1.05954349932\n",
      "10 latent factors and regularization = 0.1: validation RMSE is 0.965392217993\n",
      "10 latent factors and regularization = 0.2: validation RMSE is 0.936760044029\n",
      "12 latent factors and regularization = 0.05: validation RMSE is 1.04863309899\n",
      "12 latent factors and regularization = 0.1: validation RMSE is 0.960966780654\n",
      "12 latent factors and regularization = 0.2: validation RMSE is 0.934213475984\n",
      "\n",
      "The best model has 12 latent factors and regularization = 0.2\n",
      "Total Runtime: 89.42 seconds\n"
     ]
    }
   ],
   "source": [
    "# Prep: RDD based API\n",
    "# reload \"ratings.csv\" using sc.textFile and then convert it to the form of (user, item, rating) tuples.\n",
    "from pyspark.mllib.recommendation import ALS,MatrixFactorizationModel, Rating\n",
    "movie_rating = sc.textFile(\"../movie_recommender/ratings.csv\")\n",
    "header = movie_rating.take(1)[0]\n",
    "rating_data = movie_rating.filter(lambda line: line!=header).map(lambda line: line.split(\",\")).map(lambda x: (x[0],x[1],x[2]))\n",
    "\n",
    "train, validation, test = rating_data.randomSplit([6,2,2],seed = 7856)\n",
    "test_RDD = test.map(lambda x: (x[0], x[1]))\n",
    "\n",
    "# With the ALS model, we can use a grid search to find the optimal hyperparameters.\n",
    "num_iterations = 10\n",
    "ranks = [8, 10, 12]\n",
    "reg_params = [0.05, 0.1, 0.2]\n",
    "\n",
    "import time\n",
    "start_time = time.time()\n",
    "\n",
    "final_model = grid_ALS(train, validation, num_iterations, reg_params, ranks)\n",
    "\n",
    "print ('Total Runtime: {:.2f} seconds'.format(time.time() - start_time))"
   ]
  },
  {
   "cell_type": "code",
   "execution_count": 12,
   "metadata": {
    "collapsed": true
   },
   "outputs": [],
   "source": [
    "def plot_learning_curve(iter_setting, train_data, validation_data, reg, rank):\n",
    "    train_rmse = []\n",
    "    valid_rmse = []\n",
    "    for iteration in iter_setting:\n",
    "        \n",
    "        model = ALS.train(train_data, rank, iterations = iteration, lambda_ = reg)\n",
    "        \n",
    "        # Training RMSE \n",
    "        predictions = model.predictAll(train_data.map(lambda x: (x[0], x[1])))\\\n",
    "                      .map(lambda x: ((x[0], x[1]), x[2]))\n",
    "        rate_and_preds = train_data.map(lambda x: ((int(x[0]), int(x[1])), float(x[2])))\\\n",
    "                         .join(predictions)\n",
    "        error = math.sqrt(rate_and_preds.map(lambda r: (r[1][0] - r[1][1])**2).mean())\n",
    "        train_rmse.append(error)\n",
    "        # Validation RMSE \n",
    "        predictions = model.predictAll(validation_data.map(lambda x: (x[0], x[1])))\\\n",
    "                      .map(lambda x: ((x[0], x[1]), x[2]))\n",
    "        rate_and_preds = validation_data.map(lambda x: ((int(x[0]), int(x[1])), float(x[2])))\\\n",
    "                         .join(predictions)\n",
    "        error = math.sqrt(rate_and_preds.map(lambda r: (r[1][0] - r[1][1])**2).mean())\n",
    "        valid_rmse.append(error)\n",
    "             \n",
    "    plt.plot(iter_setting, train_rmse, label='Training', linewidth=5)\n",
    "    plt.plot(iter_setting, valid_rmse, label='Validation', linewidth=5)\n",
    "    plt.xticks(range(0, max(iter_setting) + 1, 2), fontsize=16)\n",
    "    plt.yticks(fontsize=16)\n",
    "    plt.xlabel('iterations', fontsize=30)\n",
    "    plt.ylabel('RMSE', fontsize=30)\n",
    "    plt.legend(loc='best', fontsize=20) \n",
    "    plt.show()"
   ]
  },
  {
   "cell_type": "code",
   "execution_count": 13,
   "metadata": {},
   "outputs": [
    {
     "data": {
      "image/png": "[encoded data removed]",
      "text/plain": [
       "<matplotlib.figure.Figure at 0x1a0b73c810>"
      ]
     },
     "metadata": {},
     "output_type": "display_data"
    }
   ],
   "source": [
    "iter_array = [1, 2, 5, 10]\n",
    "plot_learning_curve(iter_array, train, validation, 0.2, 8)"
   ]
  },
  {
   "cell_type": "code",
   "execution_count": 14,
   "metadata": {
    "scrolled": true
   },
   "outputs": [
    {
     "name": "stdout",
     "output_type": "stream",
     "text": [
      "For testing data the RMSE is 0.908986799055\n"
     ]
    }
   ],
   "source": [
    "# check testing error\n",
    "predictions = final_model.predictAll(test.map(lambda x: (x[0], x[1]))).map(lambda x: ((x[0], x[1]), x[2]))\n",
    "rates_and_preds = test.map(lambda r: ((int(r[0]), int(r[1])), float(r[2]))).join(predictions)\n",
    "error = math.sqrt(rates_and_preds.map(lambda r: (r[1][0] - r[1][1])**2).mean())\n",
    "print ('For testing data the RMSE is %s' % (error))"
   ]
  },
  {
   "cell_type": "markdown",
   "metadata": {},
   "source": [
    "The error is slightly better than validation RMSE."
   ]
  },
  {
   "cell_type": "markdown",
   "metadata": {},
   "source": [
    "## Top 20 Recommendation for New User with more than 50 ratings by others"
   ]
  },
  {
   "cell_type": "code",
   "execution_count": 15,
   "metadata": {
    "collapsed": true
   },
   "outputs": [],
   "source": [
    "new_user_ID = 0\n",
    "new_user_RDD = sc.parallelize([\n",
    "     (0,260,4), # Star Wars (1977)\n",
    "     (0,1,3), # Toy Story (1995)\n",
    "     (0,16,3), # Casino (1995)\n",
    "     (0,25,4), # Leaving Las Vegas (1995)\n",
    "     (0,32,4), # Twelve Monkeys (a.k.a. 12 Monkeys) (1995)\n",
    "     (0,335,1), # Flintstones, The (1994)\n",
    "     (0,379,1), # Timecop (1994)\n",
    "     (0,296,3), # Pulp Fiction (1994)\n",
    "     (0,858,5) , # Godfather, The (1972)\n",
    "     (0,50,4) # Usual Suspects, The (1995)\n",
    "])\n",
    "# convert rated list for new user\n",
    "new_user_rated=new_user_RDD.map(lambda x: x[1]).collect()\n",
    "# all users id\n",
    "all_movies_id= movies.select(\"movieId\").distinct().rdd.flatMap(lambda x: x).collect()\n",
    "all_movies_id= [int(x) for x in all_movies_id]\n",
    "# unrated for new user 0\n",
    "unrated=[(0,x) for x in all_movies_id if x not in new_user_rated]\n",
    "unrated_RDD=sc.parallelize(unrated)"
   ]
  },
  {
   "cell_type": "code",
   "execution_count": 16,
   "metadata": {
    "collapsed": true
   },
   "outputs": [],
   "source": [
    "# all movies titles tuple and all ratings counts tuple\n",
    "all_movies_titles = movies.select(\"movieId\",\"title\")\\\n",
    "                    .rdd.map(lambda x: (int(x[0]),x[1])).collect()\n",
    "all_rating_counts = ratings.select('movieId').groupBy('movieId').count()\\\n",
    "                    .orderBy(\"count\",ascending=False)\\\n",
    "                    .rdd.map(lambda x: (int(x[0]),x[1])).collect()\n",
    "t=sc.parallelize(all_movies_titles)\n",
    "c=sc.parallelize(all_rating_counts)\n",
    "\n",
    "# train new model with new total data\n",
    "added_total_rating=rating_data.union(new_user_RDD)\n",
    "# predict unrated movie for new user\n",
    "new_model=ALS.train(added_total_rating,8,10,0.2)\n",
    "# convert to (movieId, rating) for unrated movies\n",
    "new_recommend=new_model.predictAll(unrated_RDD).map(lambda x: (x[1], x[2]))"
   ]
  },
  {
   "cell_type": "code",
   "execution_count": 17,
   "metadata": {},
   "outputs": [
    {
     "name": "stdout",
     "output_type": "stream",
     "text": [
      "TOP recommended movies (with more than 20 reviews):\n",
      "(1252, u'Chinatown (1974)', 3.8223591375164623, 76)\n",
      "(913, u'Maltese Falcon, The (1941)', 3.7880575533141325, 62)\n",
      "(2019, u'Seven Samurai (Shichinin no samurai) (1954)', 3.7808703305903824, 54)\n",
      "(1230, u'Annie Hall (1977)', 3.764281499805653, 80)\n",
      "(750, u'Dr. Strangelove or: How I Learned to Stop Worrying and Love the Bomb (1964)', 3.7554191081646247, 105)\n",
      "(903, u'Vertigo (1958)', 3.7503751676418213, 69)\n",
      "(1228, u'Raging Bull (1980)', 3.7407110800815877, 50)\n",
      "(111, u'Taxi Driver (1976)', 3.7279950545952225, 118)\n",
      "(923, u'Citizen Kane (1941)', 3.7229807753573865, 85)\n",
      "(904, u'Rear Window (1954)', 3.7075527567766224, 92)\n",
      "(1221, u'Godfather: Part II, The (1974)', 3.702161064537438, 135)\n",
      "(1219, u'Psycho (1960)', 3.7015143816116423, 77)\n",
      "(908, u'North by Northwest (1959)', 3.6941362621849367, 87)\n",
      "(745, u'Wallace & Gromit: A Close Shave (1995)', 3.6854539360723284, 62)\n",
      "(608, u'Fargo (1996)', 3.6733066535645382, 224)\n",
      "(912, u'Casablanca (1942)', 3.667215283529995, 117)\n",
      "(246, u'Hoop Dreams (1994)', 3.662437651120716, 61)\n",
      "(969, u'African Queen, The (1951)', 3.6551592913369024, 50)\n",
      "(1247, u'Graduate, The (1967)', 3.645794185075827, 89)\n",
      "(4226, u'Memento (2000)', 3.644527143462763, 132)\n"
     ]
    }
   ],
   "source": [
    "recommendation=t.join(c).join(new_recommend)\\\n",
    "               .map(lambda x: (x[0],x[1][0][0],x[1][1],x[1][0][1]))\n",
    "top20=recommendation.filter(lambda x: x[3]>=50).takeOrdered(20, key=lambda x: -x[2])\n",
    "print ('TOP recommended movies (with more than 20 reviews):\\n%s' %\n",
    "        '\\n'.join(map(str, top20)))"
   ]
  },
  {
   "cell_type": "code",
   "execution_count": null,
   "metadata": {
    "collapsed": true
   },
   "outputs": [],
   "source": []
  }
 ],
 "metadata": {
  "kernelspec": {
   "display_name": "Python 2",
   "language": "python",
   "name": "python2"
  },
  "language_info": {
   "codemirror_mode": {
    "name": "ipython",
    "version": 2
   },
   "file_extension": ".py",
   "mimetype": "text/x-python",
   "name": "python",
   "nbconvert_exporter": "python",
   "pygments_lexer": "ipython2",
   "version": "2.7.14"
  }
 },
 "nbformat": 4,
 "nbformat_minor": 2
}
